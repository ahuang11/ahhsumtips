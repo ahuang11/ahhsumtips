{
 "cells": [
  {
   "cell_type": "code",
   "execution_count": 5,
   "metadata": {
    "collapsed": false
   },
   "outputs": [
    {
     "data": {
      "text/plain": [
       "((4, 5), tuple)"
      ]
     },
     "execution_count": 5,
     "metadata": {},
     "output_type": "execute_result"
    }
   ],
   "source": [
    "a_tup = 4, 5 # contrary to some beliefs, parentheses do NOT define tuples; commas do\n",
    "a_tup, type(a_tup) # this line is also a tuple"
   ]
  },
  {
   "cell_type": "code",
   "execution_count": 12,
   "metadata": {
    "collapsed": false
   },
   "outputs": [
    {
     "data": {
      "text/plain": [
       "(23.88888888888889, 57.22222222222222)"
      ]
     },
     "execution_count": 12,
     "metadata": {},
     "output_type": "execute_result"
    }
   ],
   "source": [
    "fahrenheit = 75 # regardless, parentheses are extremely useful...\n",
    "celsius = (fahrenheit - 32) * 5 / 9 # commonly used to change order of operations\n",
    "celsius_wrong = fahrenheit - 32 * 5 /9\n",
    "celsius, celsius_wrong"
   ]
  },
  {
   "cell_type": "code",
   "execution_count": 17,
   "metadata": {
    "collapsed": false
   },
   "outputs": [
    {
     "data": {
      "text/plain": [
       "(4.0, 4.0)"
      ]
     },
     "execution_count": 17,
     "metadata": {},
     "output_type": "execute_result"
    }
   ],
   "source": [
    "an_integer = 1 # # also if you have a long expression\n",
    "another_integer = 4 # you can use parentheses to continue\n",
    "a_third_integer = 6 # a line without the usage of forward slashes \"\\\"\n",
    "a_super_long_expression = (an_integer +\n",
    "                           another_integer *\n",
    "                           a_third_integer /\n",
    "                          )\n",
    "an_equivalent = an_integer + \\\n",
    "                another_integer * \\\n",
    "                a_third_integer / \\\n",
    "a_super_long_expression, an_equivalent"
   ]
  },
  {
   "cell_type": "code",
   "execution_count": 30,
   "metadata": {
    "collapsed": false
   },
   "outputs": [
    {
     "ename": "SyntaxError",
     "evalue": "unexpected EOF while parsing (<ipython-input-30-bd441248172e>, line 1)",
     "output_type": "error",
     "traceback": [
      "\u001b[0;36m  File \u001b[0;32m\"<ipython-input-30-bd441248172e>\"\u001b[0;36m, line \u001b[0;32m1\u001b[0m\n\u001b[0;31m    ('uneven_parentheses'\u001b[0m\n\u001b[0m                         ^\u001b[0m\n\u001b[0;31mSyntaxError\u001b[0m\u001b[0;31m:\u001b[0m unexpected EOF while parsing\n"
     ]
    }
   ],
   "source": [
    "('uneven_parentheses' # Python is usually able to detect unfinished parentheses and raises \"unexpected EOF while parsing\""
   ]
  },
  {
   "cell_type": "code",
   "execution_count": 31,
   "metadata": {
    "collapsed": false
   },
   "outputs": [
    {
     "ename": "SyntaxError",
     "evalue": "invalid syntax (<ipython-input-31-c7e5b964f54c>, line 5)",
     "output_type": "error",
     "traceback": [
      "\u001b[0;36m  File \u001b[0;32m\"<ipython-input-31-c7e5b964f54c>\"\u001b[0;36m, line \u001b[0;32m5\u001b[0m\n\u001b[0;31m    5 * 4 # there really is an invalid syntax on this line; you just have to finish the parentheses to fix this error!\u001b[0m\n\u001b[0m    ^\u001b[0m\n\u001b[0;31mSyntaxError\u001b[0m\u001b[0;31m:\u001b[0m invalid syntax\n"
     ]
    }
   ],
   "source": [
    "def a_fn():\n",
    "    return 1, 2, 3\n",
    "\n",
    "a, b, c = (a_fn() # sometimes though, Python doesn't detect uneven parentheses and may mislead you to think that \n",
    "5 * 4 # there really is an invalid syntax on this line; you just have to finish the parentheses to fix this error!"
   ]
  },
  {
   "cell_type": "code",
   "execution_count": null,
   "metadata": {
    "collapsed": true
   },
   "outputs": [],
   "source": []
  }
 ],
 "metadata": {
  "kernelspec": {
   "display_name": "Python 3",
   "language": "python",
   "name": "python3"
  },
  "language_info": {
   "codemirror_mode": {
    "name": "ipython",
    "version": 3
   },
   "file_extension": ".py",
   "mimetype": "text/x-python",
   "name": "python",
   "nbconvert_exporter": "python",
   "pygments_lexer": "ipython3",
   "version": "3.6.1"
  }
 },
 "nbformat": 4,
 "nbformat_minor": 2
}
