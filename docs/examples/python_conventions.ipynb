{
 "cells": [
  {
   "cell_type": "code",
   "execution_count": null,
   "metadata": {
    "collapsed": false
   },
   "outputs": [],
   "source": [
    "\"\"\"\n",
    "One of Guido's key insights is that code\n",
    "is read much more often than it is written.\n",
    "The guidelines provided here are intended to\n",
    "improve the readability of code and make\n",
    "it consistent across the wide spectrum of\n",
    "Python code. As PEP 20 says, \"Readability counts\".\n",
    "\n",
    "Go read this for way better tutorial:\n",
    "https://www.python.org/dev/peps/pep-0008/\n",
    "\"\"\""
   ]
  },
  {
   "cell_type": "code",
   "execution_count": null,
   "metadata": {
    "collapsed": false
   },
   "outputs": [],
   "source": [
    "import pandas as pd  # import statements first\n",
    "\"from numpy import * <- wildcard imports usually frowned on\""
   ]
  },
  {
   "cell_type": "code",
   "execution_count": 3,
   "metadata": {
    "collapsed": true
   },
   "outputs": [],
   "source": [
    "ALL_CAPS_CONSTANT = 'Constants are next'"
   ]
  },
  {
   "cell_type": "code",
   "execution_count": 4,
   "metadata": {
    "collapsed": false
   },
   "outputs": [],
   "source": [
    "class ExampleClass(Exception):  # class in CapitalizedWords\n",
    "    pass  # four spaces indentation\n",
    "\n",
    "def example_function(int1,  # next line should indent to\n",
    "                     float1,  # parentheses\n",
    "                     str1=None):  # optional keyword arg\n",
    "    \"\"\"\n",
    "    This function adds int1, float1, and if input, str1.\n",
    "    \n",
    "    :param int1: (int) - value of type integer\n",
    "    :param float1: (float) - value of type float\n",
    "    :param str1: (scalar) - value of a scalar\n",
    "    :return sum: (float) - sum of int1 and float1 or str1_float\n",
    "    \"\"\"\n",
    "    if str1 is not None:  # keep lines under 79 characters\n",
    "        str1_float = float(str1)\n",
    "        return int1 + float1 + str1_float\n",
    "    else:\n",
    "        return int1 + float1"
   ]
  },
  {
   "cell_type": "code",
   "execution_count": 5,
   "metadata": {
    "collapsed": false
   },
   "outputs": [
    {
     "data": {
      "text/plain": [
       "33.0"
      ]
     },
     "execution_count": 5,
     "metadata": {},
     "output_type": "execute_result"
    }
   ],
   "source": [
    "int1 = 1  # notice in-line comments should have two spaces from statement\n",
    "float1 = 2.0  # variables should have equal space in between definition\n",
    "# float1= 2.0 no \n",
    "str1 = '30'\n",
    "\n",
    "example_function(int1, float1, str1=str1)  # don't use space for keyword arg\n",
    "# example_function(int1, float1, str1 = str1)  # no"
   ]
  },
  {
   "cell_type": "code",
   "execution_count": null,
   "metadata": {
    "collapsed": true
   },
   "outputs": [],
   "source": []
  }
 ],
 "metadata": {
  "kernelspec": {
   "display_name": "Python 3",
   "language": "python",
   "name": "python3"
  },
  "language_info": {
   "codemirror_mode": {
    "name": "ipython",
    "version": 3
   },
   "file_extension": ".py",
   "mimetype": "text/x-python",
   "name": "python",
   "nbconvert_exporter": "python",
   "pygments_lexer": "ipython3",
   "version": "3.6.1"
  }
 },
 "nbformat": 4,
 "nbformat_minor": 2
}
