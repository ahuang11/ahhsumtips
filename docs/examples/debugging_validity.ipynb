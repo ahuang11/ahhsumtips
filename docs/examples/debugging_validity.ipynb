{
 "cells": [
  {
   "cell_type": "markdown",
   "metadata": {},
   "source": [
    "### debugging_validity"
   ]
  },
  {
   "cell_type": "markdown",
   "metadata": {},
   "source": [
    "Data science is not only about making scripts run successfully,\n",
    "but also ensuring the results are what you expect it to be!\n",
    "\n",
    "Because the heat index has so many terms, it's prone to a programming error.\n",
    "\n",
    "Thus, it will be calculated in this example, while demonstrating how to ensure\n",
    "the final result's validity!\n",
    "\n",
    "Equation found: http://www.weather.gov/media/epz/wxcalc/heatIndex.pdf"
   ]
  },
  {
   "cell_type": "code",
   "execution_count": 4,
   "metadata": {
    "collapsed": true
   },
   "outputs": [],
   "source": [
    "from ahh import sci\n",
    "import numpy as np"
   ]
  },
  {
   "cell_type": "code",
   "execution_count": 57,
   "metadata": {},
   "outputs": [
    {
     "data": {
      "text/plain": [
       "'The temperature is 45, relative humidity is 85, and heat index is 549.8641225499998'"
      ]
     },
     "execution_count": 57,
     "metadata": {},
     "output_type": "execute_result"
    }
   ],
   "source": [
    "txt_fmt = 'The temperature is {0}, relative humidity is {1}, and heat index is {2}'\n",
    "\n",
    "def get_heat_index(t, rh):\n",
    "    hi = (-42.379 # because it is such a long equation\n",
    "          + (2.04901523 * t) # I like to surround\n",
    "          + (10.14333127 * rh) # all of it in parentheses so I don't have to use\n",
    "          - (0.22475541 * t * rh) # the backwards backslash \"\\\"\n",
    "          - (6.83783 * 10e-3 * np.square(t)) # to continue to next line\n",
    "          - (5.481717 * 10e-2 * np.square(rh)) # also I have one term per line\n",
    "          + (1.22874 * 10e-3 * np.square(t) * rh) # so it's easier to debug\n",
    "          + (8.5282 * 10e-4* t * np.square(rh)) # if necessary\n",
    "          - (1.99 * 10e-6 * np.square(t) * np.square(rh))\n",
    "          )\n",
    "    return hi\n",
    "\n",
    "# Alright, now that's coded up, let's test it!\n",
    "t = 45\n",
    "rh = 85\n",
    "heat_idx = get_heat_index(t, rh)\n",
    "txt_fmt.format(t, rh, heat_idx)\n",
    "# Okay, before we even check the answer's validity...\n",
    "# the first question is what units are we using?? Be explicit!"
   ]
  },
  {
   "cell_type": "code",
   "execution_count": 60,
   "metadata": {},
   "outputs": [
    {
     "data": {
      "text/plain": [
       "'The temperature is 104.00F, relative humidity is 70% and heat index is 8413.25F'"
      ]
     },
     "execution_count": 60,
     "metadata": {},
     "output_type": "execute_result"
    }
   ],
   "source": [
    "txt_fmt = 'The temperature is {0:.2f}F, relative humidity is {1}% and heat index is {2:.2f}F' # units and limit to two decimals\n",
    "def get_heat_index(tf, rh):\n",
    "    \"\"\" # it's good practice to include a docstring that describes the inputs and outputs\n",
    "    :param tf: (scalar/array) - temperature in F # note I used tf instead of t to be slightly more explicit\n",
    "    :param rh: (scalar/array) - relative humidity in %\n",
    "    :return hi: (scalar/array) - heat index in F\n",
    "    \"\"\"\n",
    "    hi = (-42.379 # because it is such a long equation\n",
    "          + (2.04901523 * tf) # I like to surround\n",
    "          + (10.14333127 * rh) # all of it in parentheses so I don't have to use\n",
    "          - (0.22475541 * tf * rh) # the backwards backslash \"\\\"\n",
    "          - (6.83783 * 10e-3 * np.square(tf)) # to continue to next line\n",
    "          - (5.481717 * 10e-2 * np.square(rh)) # also I have one term per line\n",
    "          + (1.22874 * 10e-3 * np.square(tf) * rh) # so it's easier to debug\n",
    "          + (8.5282 * 10e-4* tf * np.square(rh)) # if necessary\n",
    "          - (1.99 * 10e-6 * np.square(tf) * np.square(rh))\n",
    "          )\n",
    "    return hi\n",
    "\n",
    "# Great, now that's revised let's label our inputs too\n",
    "tc = 40 # temperature in c\n",
    "rh = 70 # relative humidity in %\n",
    "tf = sci.convert(tc, c2f=True) # converts Celsius to Fahrenheit\n",
    "heat_idx = get_heat_index(tf, rh)\n",
    "txt_fmt.format(tf, rh, heat_idx)\n",
    "\n",
    "# Alright, now that we have the units straight, let's check the validity.\n",
    "# First! Does it pass the smell test, or simply, does it make sense physically or meet your expectations?\n",
    "# Here our computed heat index is 8413 F... that's one order of magnitude larger and sounds way too hot doesn't it?"
   ]
  },
  {
   "cell_type": "code",
   "execution_count": 62,
   "metadata": {},
   "outputs": [
    {
     "data": {
      "text/plain": [
       "'The temperature is 104.00F, relative humidity is 70% and heat index is 161.40F'"
      ]
     },
     "execution_count": 62,
     "metadata": {},
     "output_type": "execute_result"
    }
   ],
   "source": [
    "# debugging line by line, I noticed\n",
    "# there weren't numbers typed wrong\n",
    "# however, you may have noticed: 10e-3 != 10**-3\n",
    "# (something I tend to always screw up on...)\n",
    "# that's why we test and double check right?\n",
    "def get_heat_index(tf, rh):\n",
    "    \"\"\"\n",
    "    :param tf: (scalar/array) - temperature in F # note I used tf instead of t to be slightly more explicit\n",
    "    :param rh: (scalar/array) - relative humidity in %\n",
    "    :return hi: (scalar/array) - heat index in F\n",
    "    \"\"\"\n",
    "    hi = (-42.379 # because it is such a long equation\n",
    "          + (2.04901523 * tf) # I like to surround\n",
    "          + (10.14333127 * rh) # all of it in parentheses so I don't have to use\n",
    "          - (0.22475541 * tf * rh) # the backwards backslash \"\\\"\n",
    "          - (6.83783e-3 * np.square(tf)) # to continue to next line\n",
    "          - (5.481717e-2 * np.square(rh)) # also I have one term per line\n",
    "          + (1.22874e-3 * np.square(tf) * rh) # so it's easier to debug\n",
    "          + (8.5282e-4 * tf * np.square(rh)) # if necessary\n",
    "          - (1.99e-6 * np.square(tf) * np.square(rh))\n",
    "          )\n",
    "    return hi\n",
    "\n",
    "# Let's try again!\n",
    "heat_idx = get_heat_index(tf, rh)\n",
    "txt_fmt.format(tf, rh, heat_idx)\n",
    "# The results look much better! It's in the same order of magnitude as the temperature."
   ]
  },
  {
   "cell_type": "code",
   "execution_count": 64,
   "metadata": {},
   "outputs": [
    {
     "data": {
      "text/plain": [
       "'The temperature is 104.00F, relative humidity is 50% and heat index is 130.58F'"
      ]
     },
     "execution_count": 64,
     "metadata": {},
     "output_type": "execute_result"
    }
   ],
   "source": [
    "# Let's test it a couple more times to see if it's reasonable\n",
    "tf = 104\n",
    "rh = 50 # if we lower the relative humidity, we should expect heat index to drop too!\n",
    "heat_idx = get_heat_index(tf, rh) # tf, rh\n",
    "txt_fmt.format(tf, rh, heat_idx)\n",
    "# perfect it dropped from 161F to 130F!"
   ]
  },
  {
   "cell_type": "code",
   "execution_count": 66,
   "metadata": {},
   "outputs": [
    {
     "data": {
      "text/plain": [
       "'The temperature is 90.00F, relative humidity is 50% and heat index is 94.60F'"
      ]
     },
     "execution_count": 66,
     "metadata": {},
     "output_type": "execute_result"
    }
   ],
   "source": [
    "# One more time...\n",
    "tf = 90 # if we lower the temperature, we should expect heat index to drop too!\n",
    "rh = 50 \n",
    "heat_idx = get_heat_index(tf, rh) # tf, rh\n",
    "txt_fmt.format(tf, rh, heat_idx)\n",
    "# looks good! dropped from 130.58 to 94.6"
   ]
  },
  {
   "cell_type": "code",
   "execution_count": 67,
   "metadata": {
    "collapsed": true
   },
   "outputs": [],
   "source": [
    "# Now besides meeting expectations, there are other ways to test too such as...\n",
    "# doing a hand calculation; does it match with what is printed out from the script?\n",
    "# However, because this is a pretty common calculation, we can just utilize an online calculator!\n",
    "# Google heat index calculator and input values to see if it matches; if so, great job; you've passed!"
   ]
  }
 ],
 "metadata": {
  "kernelspec": {
   "display_name": "Python 3",
   "language": "python",
   "name": "python3"
  },
  "language_info": {
   "codemirror_mode": {
    "name": "ipython",
    "version": 3
   },
   "file_extension": ".py",
   "mimetype": "text/x-python",
   "name": "python",
   "nbconvert_exporter": "python",
   "pygments_lexer": "ipython3",
   "version": "3.6.3"
  }
 },
 "nbformat": 4,
 "nbformat_minor": 2
}
