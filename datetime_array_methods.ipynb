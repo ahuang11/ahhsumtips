{
 "cells": [
  {
   "cell_type": "code",
   "execution_count": 3,
   "metadata": {
    "collapsed": false
   },
   "outputs": [],
   "source": [
    "from ahh import exp, era\n",
    "import pandas as pd\n",
    "import datetime"
   ]
  },
  {
   "cell_type": "code",
   "execution_count": 29,
   "metadata": {
    "collapsed": false
   },
   "outputs": [
    {
     "data": {
      "text/plain": [
       "datetime.datetime(2017, 7, 22, 0, 7, 23, 85154)"
      ]
     },
     "execution_count": 29,
     "metadata": {},
     "output_type": "execute_result"
    },
    {
     "data": {
      "text/plain": [
       "'You can convert strings like this: 20170722_0007'"
      ]
     },
     "execution_count": 29,
     "metadata": {},
     "output_type": "execute_result"
    },
    {
     "data": {
      "text/plain": [
       "'You can convert strings like this too; flawed: 2017722_022'"
      ]
     },
     "execution_count": 29,
     "metadata": {},
     "output_type": "execute_result"
    },
    {
     "data": {
      "text/plain": [
       "'You can convert strings like this too; slower: 20170722_0022'"
      ]
     },
     "execution_count": 29,
     "metadata": {},
     "output_type": "execute_result"
    }
   ],
   "source": [
    "# format datetimes into strings\n",
    "dt = era.dtnow()\n",
    "dt\n",
    "dt_fmt = 'You can convert strings like this: {dt:%Y%m%d_%H%M}'\n",
    "dt_fmt.format(dt=dt)\n",
    "\n",
    "# another way...\n",
    "dt_fmt = 'You can convert strings like this too; flawed: {dt.year}{dt.month}{dt.day}_{dt.hour}{dt.day}'\n",
    "dt_fmt.format(dt=dt)\n",
    "\n",
    "# but the second way is flawed if you're building consistent file paths\n",
    "dt_fmt = 'You can convert strings like this too; slower: {dt.year:04d}{dt.month:02d}{dt.day:02d}_{dt.hour:02d}{dt.day:02d}'\n",
    "dt_fmt.format(dt=dt)"
   ]
  },
  {
   "cell_type": "code",
   "execution_count": 25,
   "metadata": {
    "collapsed": false
   },
   "outputs": [
    {
     "data": {
      "text/plain": [
       "DatetimeIndex(['2016-02-28', '2016-02-29', '2016-03-01', '2016-03-02',\n",
       "               '2016-03-03', '2016-03-04', '2016-03-05', '2016-03-06',\n",
       "               '2016-03-07', '2016-03-08', '2016-03-09', '2016-03-10',\n",
       "               '2016-03-11', '2016-03-12', '2016-03-13'],\n",
       "              dtype='datetime64[ns]', freq='D')"
      ]
     },
     "execution_count": 25,
     "metadata": {},
     "output_type": "execute_result"
    },
    {
     "data": {
      "text/plain": [
       "'shift 5 days'"
      ]
     },
     "execution_count": 25,
     "metadata": {},
     "output_type": "execute_result"
    },
    {
     "data": {
      "text/plain": [
       "DatetimeIndex(['2016-03-04', '2016-03-05', '2016-03-06', '2016-03-07',\n",
       "               '2016-03-08', '2016-03-09', '2016-03-10', '2016-03-11',\n",
       "               '2016-03-12', '2016-03-13', '2016-03-14', '2016-03-15',\n",
       "               '2016-03-16', '2016-03-17', '2016-03-18'],\n",
       "              dtype='datetime64[ns]', freq='D')"
      ]
     },
     "execution_count": 25,
     "metadata": {},
     "output_type": "execute_result"
    },
    {
     "data": {
      "text/plain": [
       "'shift -2 days'"
      ]
     },
     "execution_count": 25,
     "metadata": {},
     "output_type": "execute_result"
    },
    {
     "data": {
      "text/plain": [
       "DatetimeIndex(['2014-12-31', '2014-12-31', '2014-12-31', '2014-12-31',\n",
       "               '2014-12-31', '2014-12-31', '2014-12-31', '2014-12-31',\n",
       "               '2014-12-31', '2014-12-31', '2014-12-31', '2014-12-31',\n",
       "               '2014-12-31', '2014-12-31', '2014-12-31'],\n",
       "              dtype='datetime64[ns]', freq=None)"
      ]
     },
     "execution_count": 25,
     "metadata": {},
     "output_type": "execute_result"
    }
   ],
   "source": [
    "# shifting panda datetime index\n",
    "dt_arr = exp.arr_dt()\n",
    "dt_arr\n",
    "'shift 5 days'\n",
    "dt_arr.shift(5, freq='1D') # shift forward by 5 days\n",
    "'shift -2 days'\n",
    "dt_arr.shift(-2, freq='A') # shift backward by two years"
   ]
  },
  {
   "cell_type": "code",
   "execution_count": 6,
   "metadata": {
    "collapsed": false
   },
   "outputs": [],
   "source": [
    "# converting datetimes into pd.DatetimeIndex\n",
    "dt_list = [datetime.datetime(2016, 1, 4), datetime.datetime(2017, 2, 5), datetime.datetime(2018, 3, 6)]\n",
    "dt_idx = pd.DatetimeIndex(dt_list)"
   ]
  },
  {
   "cell_type": "code",
   "execution_count": 24,
   "metadata": {
    "collapsed": false
   },
   "outputs": [
    {
     "data": {
      "text/plain": [
       "('reference',\n",
       " DatetimeIndex(['2016-01-04', '2017-02-05', '2018-03-06'], dtype='datetime64[ns]', freq=None))"
      ]
     },
     "execution_count": 24,
     "metadata": {},
     "output_type": "execute_result"
    },
    {
     "data": {
      "text/plain": [
       "('years', array([2016, 2017, 2018], dtype=int32))"
      ]
     },
     "execution_count": 24,
     "metadata": {},
     "output_type": "execute_result"
    },
    {
     "data": {
      "text/plain": [
       "('months', array([1, 2, 3], dtype=int32))"
      ]
     },
     "execution_count": 24,
     "metadata": {},
     "output_type": "execute_result"
    },
    {
     "data": {
      "text/plain": [
       "('days', array([4, 5, 6], dtype=int32))"
      ]
     },
     "execution_count": 24,
     "metadata": {},
     "output_type": "execute_result"
    },
    {
     "data": {
      "text/plain": [
       "('date str', array(['01/04/2016 00Z', '02/05/2017 00Z', '03/06/2018 00Z'], \n",
       "       dtype='<U14'))"
      ]
     },
     "execution_count": 24,
     "metadata": {},
     "output_type": "execute_result"
    }
   ],
   "source": [
    "# and using that to easily convert to specific type of time\n",
    "'reference', dt_idx\n",
    "'years', dt_idx.year\n",
    "'months', dt_idx.month\n",
    "'days', dt_idx.day\n",
    "'date str', dt_idx.strftime('%m/%d/%Y %HZ')"
   ]
  },
  {
   "cell_type": "code",
   "execution_count": 22,
   "metadata": {
    "collapsed": false
   },
   "outputs": [
    {
     "data": {
      "text/plain": [
       "'reference'"
      ]
     },
     "execution_count": 22,
     "metadata": {},
     "output_type": "execute_result"
    },
    {
     "data": {
      "text/plain": [
       "<xarray.DataArray 'time' (time: 366)>\n",
       "array(['1948-01-01T00:00:00.000000000', '1948-01-02T00:00:00.000000000',\n",
       "       '1948-01-03T00:00:00.000000000', ..., '1948-12-29T00:00:00.000000000',\n",
       "       '1948-12-30T00:00:00.000000000', '1948-12-31T00:00:00.000000000'], dtype='datetime64[ns]')\n",
       "Coordinates:\n",
       "  * time     (time) datetime64[ns] 1948-01-01 1948-01-02 1948-01-03 ...\n",
       "Attributes:\n",
       "    long_name:      Time\n",
       "    delta_t:        0000-00-01 00:00:00\n",
       "    avg_period:     0000-00-01 00:00:00\n",
       "    standard_name:  time\n",
       "    axis:           T\n",
       "    actual_range:   [ 1297320.  1306080.]"
      ]
     },
     "execution_count": 22,
     "metadata": {},
     "output_type": "execute_result"
    },
    {
     "data": {
      "text/plain": [
       "'days'"
      ]
     },
     "execution_count": 22,
     "metadata": {},
     "output_type": "execute_result"
    },
    {
     "data": {
      "text/plain": [
       "<xarray.DataArray 'day' (time: 366)>\n",
       "array([ 1,  2,  3, ..., 29, 30, 31])\n",
       "Coordinates:\n",
       "  * time     (time) datetime64[ns] 1948-01-01 1948-01-02 1948-01-03 ..."
      ]
     },
     "execution_count": 22,
     "metadata": {},
     "output_type": "execute_result"
    },
    {
     "data": {
      "text/plain": [
       "'seasons'"
      ]
     },
     "execution_count": 22,
     "metadata": {},
     "output_type": "execute_result"
    },
    {
     "data": {
      "text/plain": [
       "<xarray.DataArray 'season' (time: 366)>\n",
       "array(['DJF', 'DJF', 'DJF', ..., 'DJF', 'DJF', 'DJF'], \n",
       "      dtype='<U3')\n",
       "Coordinates:\n",
       "  * time     (time) datetime64[ns] 1948-01-01 1948-01-02 1948-01-03 ..."
      ]
     },
     "execution_count": 22,
     "metadata": {},
     "output_type": "execute_result"
    }
   ],
   "source": [
    "# xarray can do it too, just add \".dt\"\n",
    "'reference'\n",
    "exp.arr_ds().time\n",
    "'days'\n",
    "exp.arr_ds().time.dt.day\n",
    "'seasons'\n",
    "exp.arr_ds().time.dt.season # can do seasons too"
   ]
  },
  {
   "cell_type": "code",
   "execution_count": null,
   "metadata": {
    "collapsed": true
   },
   "outputs": [],
   "source": []
  }
 ],
 "metadata": {
  "kernelspec": {
   "display_name": "Python 3",
   "language": "python",
   "name": "python3"
  },
  "language_info": {
   "codemirror_mode": {
    "name": "ipython",
    "version": 3
   },
   "file_extension": ".py",
   "mimetype": "text/x-python",
   "name": "python",
   "nbconvert_exporter": "python",
   "pygments_lexer": "ipython3",
   "version": "3.6.1"
  }
 },
 "nbformat": 4,
 "nbformat_minor": 2
}
